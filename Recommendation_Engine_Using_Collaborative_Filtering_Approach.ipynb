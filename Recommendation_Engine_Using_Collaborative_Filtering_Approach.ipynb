{
  "cells": [
    {
      "cell_type": "markdown",
      "id": "66c3504b",
      "metadata": {
        "id": "66c3504b"
      },
      "source": [
        "<br><font color='Black' size=8><u>\n",
        "Movie</u></font><br><br><font color='Black' size=8><u>Recommendation Engine</u></font>\n",
        "\n"
      ]
    },
    {
      "cell_type": "code",
      "execution_count": null,
      "id": "3d964304",
      "metadata": {
        "id": "3d964304"
      },
      "outputs": [],
      "source": [
        "# importing basic dependencies\n",
        "import numpy as np\n",
        "import pandas as pd\n",
        "import scipy as sp\n",
        "import matplotlib.pyplot as plt\n",
        "import seaborn as sns\n",
        "import warnings\n",
        "import os\n",
        "warnings.filterwarnings('ignore')"
      ]
    },
    {
      "cell_type": "code",
      "execution_count": null,
      "id": "217a94b3",
      "metadata": {
        "id": "217a94b3",
        "outputId": "fbfde9df-871a-4d0d-ae48-1bcac4dafe9d"
      },
      "outputs": [
        {
          "data": {
            "text/html": [
              "<div>\n",
              "<style scoped>\n",
              "    .dataframe tbody tr th:only-of-type {\n",
              "        vertical-align: middle;\n",
              "    }\n",
              "\n",
              "    .dataframe tbody tr th {\n",
              "        vertical-align: top;\n",
              "    }\n",
              "\n",
              "    .dataframe thead th {\n",
              "        text-align: right;\n",
              "    }\n",
              "</style>\n",
              "<table border=\"1\" class=\"dataframe\">\n",
              "  <thead>\n",
              "    <tr style=\"text-align: right;\">\n",
              "      <th></th>\n",
              "      <th>id</th>\n",
              "      <th>year</th>\n",
              "      <th>title</th>\n",
              "    </tr>\n",
              "  </thead>\n",
              "  <tbody>\n",
              "    <tr>\n",
              "      <th>0</th>\n",
              "      <td>1</td>\n",
              "      <td>2003.0</td>\n",
              "      <td>Dinosaur Planet</td>\n",
              "    </tr>\n",
              "    <tr>\n",
              "      <th>1</th>\n",
              "      <td>2</td>\n",
              "      <td>2004.0</td>\n",
              "      <td>Isle of Man TT 2004 Review</td>\n",
              "    </tr>\n",
              "    <tr>\n",
              "      <th>2</th>\n",
              "      <td>3</td>\n",
              "      <td>1997.0</td>\n",
              "      <td>Character</td>\n",
              "    </tr>\n",
              "    <tr>\n",
              "      <th>3</th>\n",
              "      <td>4</td>\n",
              "      <td>1994.0</td>\n",
              "      <td>Paula Abdul's Get Up &amp; Dance</td>\n",
              "    </tr>\n",
              "    <tr>\n",
              "      <th>4</th>\n",
              "      <td>5</td>\n",
              "      <td>2004.0</td>\n",
              "      <td>The Rise and Fall of ECW</td>\n",
              "    </tr>\n",
              "  </tbody>\n",
              "</table>\n",
              "</div>"
            ],
            "text/plain": [
              "   id    year                             title\n",
              "0   1  2003.0               Dinosaur Planet    \n",
              "1   2  2004.0    Isle of Man TT 2004 Review    \n",
              "2   3  1997.0                     Character    \n",
              "3   4  1994.0  Paula Abdul's Get Up & Dance    \n",
              "4   5  2004.0      The Rise and Fall of ECW    "
            ]
          },
          "execution_count": 2,
          "metadata": {},
          "output_type": "execute_result"
        }
      ],
      "source": [
        "# loading the movie_titles.csv\n",
        "movies=pd.read_csv('movie_titles.csv', names=['id','year','title'])\n",
        "\n",
        "# peek into the dataframe\n",
        "movies.head()"
      ]
    },
    {
      "cell_type": "code",
      "execution_count": null,
      "id": "f2f77432",
      "metadata": {
        "scrolled": true,
        "id": "f2f77432",
        "outputId": "a2845f52-0959-4ab8-8187-f8764933e003"
      },
      "outputs": [
        {
          "name": "stdout",
          "output_type": "stream",
          "text": [
            "<class 'pandas.core.frame.DataFrame'>\n",
            "RangeIndex: 17770 entries, 0 to 17769\n",
            "Data columns (total 3 columns):\n",
            " #   Column  Non-Null Count  Dtype  \n",
            "---  ------  --------------  -----  \n",
            " 0   id      17770 non-null  int64  \n",
            " 1   year    17763 non-null  float64\n",
            " 2   title   17770 non-null  object \n",
            "dtypes: float64(1), int64(1), object(1)\n",
            "memory usage: 416.6+ KB\n"
          ]
        }
      ],
      "source": [
        "movies.info()"
      ]
    },
    {
      "cell_type": "markdown",
      "id": "45387b3f",
      "metadata": {
        "id": "45387b3f"
      },
      "source": [
        "<b>In the following piece of code we're <font color='black'>combining</font> all the <font color='black'>four text files</font> containing the <font color='black'>user ratings</font> into one massive <font color='black'>rating.csv file</font>.</b>"
      ]
    },
    {
      "cell_type": "code",
      "execution_count": null,
      "id": "7040d72b",
      "metadata": {
        "id": "7040d72b"
      },
      "outputs": [],
      "source": [
        "# creating a new file if it doesn't exist already\n",
        "if not os.path.isfile('rating.csv'):\n",
        "    \n",
        "    # opening the newly created file on the 'write' mode\n",
        "    rating=open('rating.csv', mode='w')\n",
        "    \n",
        "    separated_data=['combined_data_1.txt','combined_data_2.txt',\n",
        "                    'combined_data_3.txt','combined_data_4.txt']\n",
        "    \n",
        "    # iterating through the separate files containing the user ratings\n",
        "    for file in separated_data:\n",
        "        with open(file) as f:\n",
        "            # processing each line of the currently open file\n",
        "            for line in f: \n",
        "                line=line.strip()\n",
        "                if line[-1]==':':\n",
        "                    movie_id=line[:-1]\n",
        "                else:\n",
        "                    combining_rows=[x for x in line.split(',')]\n",
        "                    combining_rows=[movie_id]+combining_rows\n",
        "                    rating.write(','.join(combining_rows))\n",
        "                    rating.write('\\n')\n",
        "        f.close()\n",
        "    rating.close()"
      ]
    },
    {
      "cell_type": "code",
      "execution_count": null,
      "id": "23dfe4b6",
      "metadata": {
        "id": "23dfe4b6"
      },
      "outputs": [],
      "source": [
        "# loading the above new csv file into a dataframe\n",
        "rating=pd.read_csv('rating.csv', sep=',', \n",
        "                   names=['Movie_Id', 'Customer_Id','Rating','Date'])"
      ]
    },
    {
      "cell_type": "code",
      "execution_count": null,
      "id": "45202e75",
      "metadata": {
        "id": "45202e75",
        "outputId": "332944fe-f038-4562-eadd-169612d0f74d"
      },
      "outputs": [
        {
          "data": {
            "text/html": [
              "<div>\n",
              "<style scoped>\n",
              "    .dataframe tbody tr th:only-of-type {\n",
              "        vertical-align: middle;\n",
              "    }\n",
              "\n",
              "    .dataframe tbody tr th {\n",
              "        vertical-align: top;\n",
              "    }\n",
              "\n",
              "    .dataframe thead th {\n",
              "        text-align: right;\n",
              "    }\n",
              "</style>\n",
              "<table border=\"1\" class=\"dataframe\">\n",
              "  <thead>\n",
              "    <tr style=\"text-align: right;\">\n",
              "      <th></th>\n",
              "      <th>Movie_Id</th>\n",
              "      <th>Customer_Id</th>\n",
              "      <th>Rating</th>\n",
              "      <th>Date</th>\n",
              "    </tr>\n",
              "  </thead>\n",
              "  <tbody>\n",
              "    <tr>\n",
              "      <th>0</th>\n",
              "      <td>1</td>\n",
              "      <td>1488844</td>\n",
              "      <td>3</td>\n",
              "      <td>2005-09-06</td>\n",
              "    </tr>\n",
              "    <tr>\n",
              "      <th>1</th>\n",
              "      <td>1</td>\n",
              "      <td>822109</td>\n",
              "      <td>5</td>\n",
              "      <td>2005-05-13</td>\n",
              "    </tr>\n",
              "    <tr>\n",
              "      <th>2</th>\n",
              "      <td>1</td>\n",
              "      <td>885013</td>\n",
              "      <td>4</td>\n",
              "      <td>2005-10-19</td>\n",
              "    </tr>\n",
              "    <tr>\n",
              "      <th>3</th>\n",
              "      <td>1</td>\n",
              "      <td>30878</td>\n",
              "      <td>4</td>\n",
              "      <td>2005-12-26</td>\n",
              "    </tr>\n",
              "    <tr>\n",
              "      <th>4</th>\n",
              "      <td>1</td>\n",
              "      <td>823519</td>\n",
              "      <td>3</td>\n",
              "      <td>2004-05-03</td>\n",
              "    </tr>\n",
              "  </tbody>\n",
              "</table>\n",
              "</div>"
            ],
            "text/plain": [
              "   Movie_Id  Customer_Id  Rating        Date\n",
              "0         1      1488844       3  2005-09-06\n",
              "1         1       822109       5  2005-05-13\n",
              "2         1       885013       4  2005-10-19\n",
              "3         1        30878       4  2005-12-26\n",
              "4         1       823519       3  2004-05-03"
            ]
          },
          "execution_count": 6,
          "metadata": {},
          "output_type": "execute_result"
        }
      ],
      "source": [
        "# peek into the dataframe\n",
        "rating.head()"
      ]
    },
    {
      "cell_type": "code",
      "execution_count": null,
      "id": "082f9e8c",
      "metadata": {
        "id": "082f9e8c"
      },
      "outputs": [],
      "source": [
        "# merging the movies dataframe with rating dataframe\n",
        "df=pd.merge(movies, rating, left_on='id', right_on='Movie_Id', how='inner')"
      ]
    },
    {
      "cell_type": "code",
      "execution_count": null,
      "id": "4ea79b29",
      "metadata": {
        "id": "4ea79b29",
        "outputId": "0e092ee7-79f5-4b86-c53d-feeca862a5f8"
      },
      "outputs": [
        {
          "data": {
            "text/html": [
              "<div>\n",
              "<style scoped>\n",
              "    .dataframe tbody tr th:only-of-type {\n",
              "        vertical-align: middle;\n",
              "    }\n",
              "\n",
              "    .dataframe tbody tr th {\n",
              "        vertical-align: top;\n",
              "    }\n",
              "\n",
              "    .dataframe thead th {\n",
              "        text-align: right;\n",
              "    }\n",
              "</style>\n",
              "<table border=\"1\" class=\"dataframe\">\n",
              "  <thead>\n",
              "    <tr style=\"text-align: right;\">\n",
              "      <th></th>\n",
              "      <th>id</th>\n",
              "      <th>year</th>\n",
              "      <th>title</th>\n",
              "      <th>Movie_Id</th>\n",
              "      <th>Customer_Id</th>\n",
              "      <th>Rating</th>\n",
              "      <th>Date</th>\n",
              "    </tr>\n",
              "  </thead>\n",
              "  <tbody>\n",
              "    <tr>\n",
              "      <th>0</th>\n",
              "      <td>1</td>\n",
              "      <td>2003.0</td>\n",
              "      <td>Dinosaur Planet</td>\n",
              "      <td>1</td>\n",
              "      <td>1488844</td>\n",
              "      <td>3</td>\n",
              "      <td>2005-09-06</td>\n",
              "    </tr>\n",
              "    <tr>\n",
              "      <th>1</th>\n",
              "      <td>1</td>\n",
              "      <td>2003.0</td>\n",
              "      <td>Dinosaur Planet</td>\n",
              "      <td>1</td>\n",
              "      <td>822109</td>\n",
              "      <td>5</td>\n",
              "      <td>2005-05-13</td>\n",
              "    </tr>\n",
              "    <tr>\n",
              "      <th>2</th>\n",
              "      <td>1</td>\n",
              "      <td>2003.0</td>\n",
              "      <td>Dinosaur Planet</td>\n",
              "      <td>1</td>\n",
              "      <td>885013</td>\n",
              "      <td>4</td>\n",
              "      <td>2005-10-19</td>\n",
              "    </tr>\n",
              "    <tr>\n",
              "      <th>3</th>\n",
              "      <td>1</td>\n",
              "      <td>2003.0</td>\n",
              "      <td>Dinosaur Planet</td>\n",
              "      <td>1</td>\n",
              "      <td>30878</td>\n",
              "      <td>4</td>\n",
              "      <td>2005-12-26</td>\n",
              "    </tr>\n",
              "    <tr>\n",
              "      <th>4</th>\n",
              "      <td>1</td>\n",
              "      <td>2003.0</td>\n",
              "      <td>Dinosaur Planet</td>\n",
              "      <td>1</td>\n",
              "      <td>823519</td>\n",
              "      <td>3</td>\n",
              "      <td>2004-05-03</td>\n",
              "    </tr>\n",
              "  </tbody>\n",
              "</table>\n",
              "</div>"
            ],
            "text/plain": [
              "   id    year                title  Movie_Id  Customer_Id  Rating        Date\n",
              "0   1  2003.0  Dinosaur Planet             1      1488844       3  2005-09-06\n",
              "1   1  2003.0  Dinosaur Planet             1       822109       5  2005-05-13\n",
              "2   1  2003.0  Dinosaur Planet             1       885013       4  2005-10-19\n",
              "3   1  2003.0  Dinosaur Planet             1        30878       4  2005-12-26\n",
              "4   1  2003.0  Dinosaur Planet             1       823519       3  2004-05-03"
            ]
          },
          "execution_count": 8,
          "metadata": {},
          "output_type": "execute_result"
        }
      ],
      "source": [
        "# peek into the dataframe\n",
        "df.head()"
      ]
    },
    {
      "cell_type": "markdown",
      "id": "c30f69cf",
      "metadata": {
        "id": "c30f69cf"
      },
      "source": [
        "### Dropping Variables"
      ]
    },
    {
      "cell_type": "code",
      "execution_count": null,
      "id": "3756ddb5",
      "metadata": {
        "id": "3756ddb5"
      },
      "outputs": [],
      "source": [
        "# dropping the unnecessary variables\n",
        "df=df[['Movie_Id', 'Customer_Id', 'Rating']]"
      ]
    },
    {
      "cell_type": "markdown",
      "id": "8d6bff19",
      "metadata": {
        "id": "8d6bff19"
      },
      "source": [
        "### EDA"
      ]
    },
    {
      "cell_type": "code",
      "execution_count": null,
      "id": "07997a48",
      "metadata": {
        "id": "07997a48",
        "outputId": "f5cd4525-7e58-4812-decd-07ee434c47f5"
      },
      "outputs": [
        {
          "name": "stdout",
          "output_type": "stream",
          "text": [
            "<class 'pandas.core.frame.DataFrame'>\n",
            "Int64Index: 100480507 entries, 0 to 100480506\n",
            "Data columns (total 3 columns):\n",
            " #   Column       Dtype\n",
            "---  ------       -----\n",
            " 0   Movie_Id     int64\n",
            " 1   Customer_Id  int64\n",
            " 2   Rating       int64\n",
            "dtypes: int64(3)\n",
            "memory usage: 3.0 GB\n"
          ]
        }
      ],
      "source": [
        "# checking the metadata\n",
        "df.info()"
      ]
    },
    {
      "cell_type": "code",
      "execution_count": null,
      "id": "cc466790",
      "metadata": {
        "id": "cc466790",
        "outputId": "42432de8-dd5f-40b8-d9e7-f2cdef808160"
      },
      "outputs": [
        {
          "name": "stdout",
          "output_type": "stream",
          "text": [
            "There are 17770 unique movies in the dataframe\n"
          ]
        }
      ],
      "source": [
        "print(f'There are {df.Movie_Id.unique().shape[0]} unique movies in the dataframe')"
      ]
    },
    {
      "cell_type": "code",
      "execution_count": null,
      "id": "2c7e1eb0",
      "metadata": {
        "id": "2c7e1eb0",
        "outputId": "4bc41a89-a75c-46e5-f9a5-298c278c671e"
      },
      "outputs": [
        {
          "name": "stdout",
          "output_type": "stream",
          "text": [
            "There are 480189 customers in the dataframe\n"
          ]
        }
      ],
      "source": [
        "print(f'There are {df.Customer_Id.unique().shape[0]} customers in the dataframe')"
      ]
    },
    {
      "cell_type": "code",
      "execution_count": null,
      "id": "65aac3b1",
      "metadata": {
        "id": "65aac3b1",
        "outputId": "b9a3bcbb-c12d-4c64-9613-45f5a7fa8331"
      },
      "outputs": [
        {
          "name": "stdout",
          "output_type": "stream",
          "text": [
            "The minimum Customer_Id and the maximum Customer_Id in the df are 6 and 2649429 respectively and we \n",
            "know that there are only 480189 unique customers in the df which will lead to confusion. Hence we're going to map them as continuous integers\n"
          ]
        }
      ],
      "source": [
        "print(f\"The minimum Customer_Id and the maximum Customer_Id in the df are {df.Customer_Id.min()} and {df.Customer_Id.max()} respectively and we \\nknow that there are only {df.Customer_Id.unique().shape[0]} unique customers in the df which will lead to confusion. Hence we're going to map them as continuous integers\")"
      ]
    },
    {
      "cell_type": "code",
      "execution_count": null,
      "id": "739fa25f",
      "metadata": {
        "id": "739fa25f"
      },
      "outputs": [],
      "source": [
        "# creating a dict map to map old Customer_Id to new and continuous Customer_Id\n",
        "mapping={old:new for old,new in \n",
        "         list(zip(sorted(df.Customer_Id.unique()),\n",
        "                  range(df.Customer_Id.unique().shape[0])))}"
      ]
    },
    {
      "cell_type": "code",
      "execution_count": null,
      "id": "c52c30dc",
      "metadata": {
        "id": "c52c30dc"
      },
      "outputs": [],
      "source": [
        "# applying the above mapping\n",
        "df['Customer_Id']=df['Customer_Id'].map(mapping)"
      ]
    },
    {
      "cell_type": "code",
      "execution_count": null,
      "id": "e393e263",
      "metadata": {
        "id": "e393e263",
        "outputId": "09156362-b37d-4f32-f923-320c0a698c90"
      },
      "outputs": [
        {
          "name": "stdout",
          "output_type": "stream",
          "text": [
            "480189\n",
            "0\n",
            "480188\n"
          ]
        }
      ],
      "source": [
        "# checking if the new Customer_Id is continuous\n",
        "print(df.Customer_Id.unique().shape[0])\n",
        "print(df.Customer_Id.min())\n",
        "print(df.Customer_Id.max())"
      ]
    },
    {
      "cell_type": "code",
      "execution_count": null,
      "id": "cbefe623",
      "metadata": {
        "id": "cbefe623",
        "outputId": "59948c31-0917-4115-bf46-f9c89b1265e9"
      },
      "outputs": [
        {
          "data": {
            "image/png": "[encoded data removed]",
            "text/plain": [
              "<Figure size 1800x1200 with 1 Axes>"
            ]
          },
          "metadata": {
            "needs_background": "light"
          },
          "output_type": "display_data"
        }
      ],
      "source": [
        "plt.figure(dpi=300)\n",
        "plt.title('Popularity Ranking Of Movies')\n",
        "df.Movie_Id.value_counts()[:6000].plot(kind='bar', color='red')\n",
        "plt.xticks(ticks=[]);"
      ]
    },
    {
      "cell_type": "code",
      "execution_count": null,
      "id": "45f174ba",
      "metadata": {
        "id": "45f174ba",
        "outputId": "4b6ae13b-940f-4478-fb5f-079a317d50c8"
      },
      "outputs": [
        {
          "data": {
            "image/png": "[encoded data removed]",
            "text/plain": [
              "<Figure size 1800x1200 with 1 Axes>"
            ]
          },
          "metadata": {
            "needs_background": "light"
          },
          "output_type": "display_data"
        }
      ],
      "source": [
        "plt.figure(dpi=300)\n",
        "plt.title('Distribution of Ratings')\n",
        "sns.countplot(df.Rating, palette='Reds');"
      ]
    },
    {
      "cell_type": "code",
      "execution_count": null,
      "id": "d3610d91",
      "metadata": {
        "id": "d3610d91",
        "outputId": "fd281174-e9ff-4f25-e2ac-5222dbcdaebd"
      },
      "outputs": [
        {
          "data": {
            "text/plain": [
              "Movie_Id       0\n",
              "Customer_Id    0\n",
              "Rating         0\n",
              "dtype: int64"
            ]
          },
          "execution_count": 19,
          "metadata": {},
          "output_type": "execute_result"
        }
      ],
      "source": [
        "# there are no NaNs in any of the columns\n",
        "df.isna().sum()"
      ]
    },
    {
      "cell_type": "code",
      "execution_count": null,
      "id": "f1b8ce38",
      "metadata": {
        "id": "f1b8ce38",
        "outputId": "8bd833bd-1cd5-46e3-8eed-8f5fca0d3f85"
      },
      "outputs": [
        {
          "data": {
            "text/plain": [
              "0"
            ]
          },
          "execution_count": 20,
          "metadata": {},
          "output_type": "execute_result"
        }
      ],
      "source": [
        "# there are no duplicated ratings\n",
        "df.duplicated(['Movie_Id','Customer_Id']).sum()"
      ]
    },
    {
      "cell_type": "code",
      "execution_count": null,
      "id": "2b32da57",
      "metadata": {
        "id": "2b32da57",
        "outputId": "bdec2bee-1219-464c-e191-cbfaf3ccf49e"
      },
      "outputs": [
        {
          "data": {
            "image/png": "[encoded data removed]",
            "text/plain": [
              "<Figure size 1800x1200 with 1 Axes>"
            ]
          },
          "metadata": {
            "needs_background": "light"
          },
          "output_type": "display_data"
        }
      ],
      "source": [
        "# average user rating of top 20 movies\n",
        "plt.figure(dpi=300)\n",
        "plt.title('Average User Rating vs Movies')\n",
        "plt.ylabel('Average User Rating')\n",
        "(df.groupby(by='Movie_Id')['Rating']\n",
        " .mean().sort_values(ascending=False)[:20]).plot(kind='bar', color='red');"
      ]
    },
    {
      "cell_type": "code",
      "execution_count": null,
      "id": "8150754e",
      "metadata": {
        "id": "8150754e",
        "outputId": "15b33494-2ed3-4410-e4e4-c01c67ca079b"
      },
      "outputs": [
        {
          "data": {
            "image/png": "[encoded data removed]",
            "text/plain": [
              "<Figure size 1800x1200 with 1 Axes>"
            ]
          },
          "metadata": {
            "needs_background": "light"
          },
          "output_type": "display_data"
        }
      ],
      "source": [
        "plt.figure(dpi=300)\n",
        "plt.title('Rating Patterns of Users')\n",
        "df.Customer_Id.value_counts()[:1000].plot(kind='bar', color='red')\n",
        "plt.xticks(ticks=[]);"
      ]
    },
    {
      "cell_type": "code",
      "execution_count": null,
      "id": "0f911d57",
      "metadata": {
        "id": "0f911d57",
        "outputId": "728d580e-51f9-40e2-ef74-db0ec708d7bd"
      },
      "outputs": [
        {
          "data": {
            "text/plain": [
              "count    1.004805e+08\n",
              "mean     3.604290e+00\n",
              "std      1.085219e+00\n",
              "min      1.000000e+00\n",
              "25%      3.000000e+00\n",
              "50%      4.000000e+00\n",
              "75%      4.000000e+00\n",
              "max      5.000000e+00\n",
              "Name: Rating, dtype: float64"
            ]
          },
          "execution_count": 23,
          "metadata": {},
          "output_type": "execute_result"
        }
      ],
      "source": [
        "# statistical description of ratings\n",
        "df.Rating.describe()"
      ]
    },
    {
      "cell_type": "markdown",
      "id": "4d85172d",
      "metadata": {
        "id": "4d85172d"
      },
      "source": [
        "# <font color='Black'>Utility Matrix</font>\n",
        "\n"
      ]
    },
    {
      "cell_type": "code",
      "execution_count": null,
      "id": "117274a0",
      "metadata": {
        "id": "117274a0",
        "outputId": "1f8d5420-5baf-4e94-d1ed-05dcef999043"
      },
      "outputs": [
        {
          "data": {
            "text/html": [
              "<div>\n",
              "<style scoped>\n",
              "    .dataframe tbody tr th:only-of-type {\n",
              "        vertical-align: middle;\n",
              "    }\n",
              "\n",
              "    .dataframe tbody tr th {\n",
              "        vertical-align: top;\n",
              "    }\n",
              "\n",
              "    .dataframe thead th {\n",
              "        text-align: right;\n",
              "    }\n",
              "</style>\n",
              "<table border=\"1\" class=\"dataframe\">\n",
              "  <thead>\n",
              "    <tr style=\"text-align: right;\">\n",
              "      <th></th>\n",
              "      <th>Rating</th>\n",
              "    </tr>\n",
              "    <tr>\n",
              "      <th>Movie_Id</th>\n",
              "      <th></th>\n",
              "    </tr>\n",
              "  </thead>\n",
              "  <tbody>\n",
              "    <tr>\n",
              "      <th>1</th>\n",
              "      <td>3.749543</td>\n",
              "    </tr>\n",
              "    <tr>\n",
              "      <th>2</th>\n",
              "      <td>3.558621</td>\n",
              "    </tr>\n",
              "    <tr>\n",
              "      <th>3</th>\n",
              "      <td>3.641153</td>\n",
              "    </tr>\n",
              "    <tr>\n",
              "      <th>4</th>\n",
              "      <td>2.739437</td>\n",
              "    </tr>\n",
              "    <tr>\n",
              "      <th>5</th>\n",
              "      <td>3.919298</td>\n",
              "    </tr>\n",
              "  </tbody>\n",
              "</table>\n",
              "</div>"
            ],
            "text/plain": [
              "            Rating\n",
              "Movie_Id          \n",
              "1         3.749543\n",
              "2         3.558621\n",
              "3         3.641153\n",
              "4         2.739437\n",
              "5         3.919298"
            ]
          },
          "execution_count": 24,
          "metadata": {},
          "output_type": "execute_result"
        }
      ],
      "source": [
        "# finding the average rating for each movie\n",
        "mean_rating=df.groupby(by='Movie_Id')[['Rating']].mean()\n",
        "mean_rating.head()"
      ]
    },
    {
      "cell_type": "code",
      "execution_count": null,
      "id": "000c1052",
      "metadata": {
        "id": "000c1052",
        "outputId": "3b95e147-413b-4463-ea98-a99bfb733e1d"
      },
      "outputs": [
        {
          "data": {
            "text/html": [
              "<div>\n",
              "<style scoped>\n",
              "    .dataframe tbody tr th:only-of-type {\n",
              "        vertical-align: middle;\n",
              "    }\n",
              "\n",
              "    .dataframe tbody tr th {\n",
              "        vertical-align: top;\n",
              "    }\n",
              "\n",
              "    .dataframe thead th {\n",
              "        text-align: right;\n",
              "    }\n",
              "</style>\n",
              "<table border=\"1\" class=\"dataframe\">\n",
              "  <thead>\n",
              "    <tr style=\"text-align: right;\">\n",
              "      <th></th>\n",
              "      <th>Movie_Id</th>\n",
              "      <th>Customer_Id</th>\n",
              "      <th>Rating_x</th>\n",
              "      <th>Rating_y</th>\n",
              "    </tr>\n",
              "  </thead>\n",
              "  <tbody>\n",
              "    <tr>\n",
              "      <th>0</th>\n",
              "      <td>1</td>\n",
              "      <td>270045</td>\n",
              "      <td>3</td>\n",
              "      <td>3.749543</td>\n",
              "    </tr>\n",
              "    <tr>\n",
              "      <th>1</th>\n",
              "      <td>1</td>\n",
              "      <td>149546</td>\n",
              "      <td>5</td>\n",
              "      <td>3.749543</td>\n",
              "    </tr>\n",
              "    <tr>\n",
              "      <th>2</th>\n",
              "      <td>1</td>\n",
              "      <td>160878</td>\n",
              "      <td>4</td>\n",
              "      <td>3.749543</td>\n",
              "    </tr>\n",
              "    <tr>\n",
              "      <th>3</th>\n",
              "      <td>1</td>\n",
              "      <td>5466</td>\n",
              "      <td>4</td>\n",
              "      <td>3.749543</td>\n",
              "    </tr>\n",
              "    <tr>\n",
              "      <th>4</th>\n",
              "      <td>1</td>\n",
              "      <td>149791</td>\n",
              "      <td>3</td>\n",
              "      <td>3.749543</td>\n",
              "    </tr>\n",
              "  </tbody>\n",
              "</table>\n",
              "</div>"
            ],
            "text/plain": [
              "   Movie_Id  Customer_Id  Rating_x  Rating_y\n",
              "0         1       270045         3  3.749543\n",
              "1         1       149546         5  3.749543\n",
              "2         1       160878         4  3.749543\n",
              "3         1         5466         4  3.749543\n",
              "4         1       149791         3  3.749543"
            ]
          },
          "execution_count": 25,
          "metadata": {},
          "output_type": "execute_result"
        }
      ],
      "source": [
        "# merging the above df with the original df\n",
        "tmp=pd.merge(df, mean_rating, left_on='Movie_Id', \n",
        "             right_index=True, how='inner')\n",
        "tmp.head()"
      ]
    },
    {
      "cell_type": "code",
      "execution_count": null,
      "id": "6c30c120",
      "metadata": {
        "id": "6c30c120",
        "outputId": "71c510f9-9f35-4d49-c0d6-9b3de657be3f"
      },
      "outputs": [
        {
          "data": {
            "text/html": [
              "<div>\n",
              "<style scoped>\n",
              "    .dataframe tbody tr th:only-of-type {\n",
              "        vertical-align: middle;\n",
              "    }\n",
              "\n",
              "    .dataframe tbody tr th {\n",
              "        vertical-align: top;\n",
              "    }\n",
              "\n",
              "    .dataframe thead th {\n",
              "        text-align: right;\n",
              "    }\n",
              "</style>\n",
              "<table border=\"1\" class=\"dataframe\">\n",
              "  <thead>\n",
              "    <tr style=\"text-align: right;\">\n",
              "      <th></th>\n",
              "      <th>Movie_Id</th>\n",
              "      <th>Customer_Id</th>\n",
              "      <th>Rating</th>\n",
              "    </tr>\n",
              "  </thead>\n",
              "  <tbody>\n",
              "    <tr>\n",
              "      <th>0</th>\n",
              "      <td>1</td>\n",
              "      <td>270045</td>\n",
              "      <td>-0.749543</td>\n",
              "    </tr>\n",
              "    <tr>\n",
              "      <th>1</th>\n",
              "      <td>1</td>\n",
              "      <td>149546</td>\n",
              "      <td>1.250457</td>\n",
              "    </tr>\n",
              "    <tr>\n",
              "      <th>2</th>\n",
              "      <td>1</td>\n",
              "      <td>160878</td>\n",
              "      <td>0.250457</td>\n",
              "    </tr>\n",
              "    <tr>\n",
              "      <th>3</th>\n",
              "      <td>1</td>\n",
              "      <td>5466</td>\n",
              "      <td>0.250457</td>\n",
              "    </tr>\n",
              "    <tr>\n",
              "      <th>4</th>\n",
              "      <td>1</td>\n",
              "      <td>149791</td>\n",
              "      <td>-0.749543</td>\n",
              "    </tr>\n",
              "  </tbody>\n",
              "</table>\n",
              "</div>"
            ],
            "text/plain": [
              "   Movie_Id  Customer_Id    Rating\n",
              "0         1       270045 -0.749543\n",
              "1         1       149546  1.250457\n",
              "2         1       160878  0.250457\n",
              "3         1         5466  0.250457\n",
              "4         1       149791 -0.749543"
            ]
          },
          "execution_count": 26,
          "metadata": {},
          "output_type": "execute_result"
        }
      ],
      "source": [
        "# creating a df containing the movie-wise centred ratings\n",
        "df=tmp[['Movie_Id','Customer_Id']]\n",
        "df['Rating']=tmp['Rating_x']-tmp['Rating_y']\n",
        "df.head()"
      ]
    },
    {
      "cell_type": "code",
      "execution_count": null,
      "id": "c67360c3",
      "metadata": {
        "id": "c67360c3",
        "outputId": "65119e67-4103-414b-a0a5-45dc9bfaf33b"
      },
      "outputs": [
        {
          "data": {
            "text/plain": [
              "<17771x480190 sparse matrix of type '<class 'numpy.float64'>'\n",
              "\twith 100480507 stored elements in Compressed Sparse Row format>"
            ]
          },
          "execution_count": 27,
          "metadata": {},
          "output_type": "execute_result"
        }
      ],
      "source": [
        "rows=df.Movie_Id.values\n",
        "cols=df.Customer_Id.values\n",
        "data=df.Rating.values\n",
        "utility=sp.sparse.csr_matrix((data, (rows, cols)), \n",
        "shape=(1+df.Movie_Id.unique().shape[0],1+df.Customer_Id.unique().shape[0]))\n",
        "utility"
      ]
    },
    {
      "cell_type": "code",
      "execution_count": null,
      "id": "9e5ebbe1",
      "metadata": {
        "id": "9e5ebbe1"
      },
      "outputs": [],
      "source": [
        "# unsupervised learning algo for recommendation system\n",
        "from sklearn.neighbors import NearestNeighbors"
      ]
    },
    {
      "cell_type": "code",
      "execution_count": null,
      "id": "de2ea853",
      "metadata": {
        "id": "de2ea853"
      },
      "outputs": [],
      "source": [
        "# capturing the pair of movie index and user index who actually rated the movie\n",
        "mov_idx,user_idx=utility.nonzero()"
      ]
    },
    {
      "cell_type": "markdown",
      "id": "5f5c63de",
      "metadata": {
        "id": "5f5c63de"
      },
      "source": [
        "# <font color='Black'>Recommender System Based On Collaborative Filtering Item-Item Cosine Similarity</font>"
      ]
    },
    {
      "cell_type": "code",
      "execution_count": null,
      "id": "8aa49073",
      "metadata": {
        "id": "8aa49073"
      },
      "outputs": [],
      "source": [
        "def recommendations(user_id):\n",
        "    # list of top 5 movies rated by the given user\n",
        "    user_top_movies=utility[:,user_id].toarray().reshape(-1,)\n",
        "    \n",
        "    # finding the argmax for top 5 ratings\n",
        "    user_top_movies=user_top_movies.argsort()[-5:][::-1]\n",
        "    \n",
        "    print(f'The list of top 5 rated movies by the Customer_Id {user_id} are')\n",
        "    for film in movies.iloc[user_top_movies]['title'].values:\n",
        "          print(film)\n",
        "  \n",
        "    # rating vectors of all the movies rated by this user\n",
        "    # in otherwords utility submatrix\n",
        "    sub_utility=utility[mov_idx[user_idx==user_id]]\n",
        "    \n",
        "    # instantiating KNN model with default 5 neigbors\n",
        "    knn=NearestNeighbors(metric='cosine', n_jobs=-1, algorithm='brute')\n",
        "    \n",
        "    # training the above algorithm on the utility submatrix \n",
        "    knn.fit(sub_utility)\n",
        "    \n",
        "    # collecting list of movies not watched by this user\n",
        "    unwatched\n",
        "    =list(set(range(1,17771)).difference(set(mov_idx[user_idx==user_id])))\n",
        "    \n",
        "    unwatched_rating=[-10]*17771\n",
        "    # for every unwatched film by this user\n",
        "    for newfilm in unwatched:\n",
        "        \n",
        "        # we're finding the rating vector of the movie\n",
        "        rate_vector=utility[newfilm].toarray()\n",
        "        \n",
        "        # extracting the cosine distances and movie_id\n",
        "        distance,movieid=knn.kneighbors(rate_vector, 5, return_distance=True)\n",
        "        \n",
        "        # reshape the distance and the ids\n",
        "        distance,movieid=distance.reshape(-1,),movieid.reshape(-1,)\n",
        "        \n",
        "        # converting cosine distance to cosine similarity\n",
        "        similarity=1-distance\n",
        "        \n",
        "        # ratings of the aforementioned 5 most similar movies by this user\n",
        "        rates=utility[:,user_id][movieid].toarray().reshape(-1,)\n",
        "        \n",
        "        # finding the weighted mean of the 5 highly rated movies\n",
        "        predicted_rating=np.dot(similarity,rates)/np.abs(similarity).sum()\n",
        "        \n",
        "        # assigning the predicted_rating at the respective index \n",
        "        # corresponding to the movie index\n",
        "        unwatched_rating[newfilm]=predicted_rating\n",
        "    \n",
        "    # converting it to numpy array\n",
        "    unwatched_rating=np.array(unwatched_rating)\n",
        "    \n",
        "    # finding the argmax for top 5 ratings\n",
        "    top_recommends=unwatched_rating.argsort()[-5:][::-1]\n",
        "    \n",
        "    print(f'\\nThe list of top 5 recommended movies for the Customer_Id {user_id} are')\n",
        "    for recommend in movies.iloc[top_recommends]['title'].values:\n",
        "          print(recommend)"
      ]
    },
    {
      "cell_type": "markdown",
      "id": "1d688ec7",
      "metadata": {
        "id": "1d688ec7"
      },
      "source": [
        "# <font color='Black'>Making Recommendations</font>\n",
        "\n"
      ]
    },
    {
      "cell_type": "code",
      "execution_count": null,
      "id": "f95d6b1c",
      "metadata": {
        "scrolled": true,
        "id": "f95d6b1c",
        "outputId": "65f871f9-d4d9-43ab-ee48-9bc4fc267cbe"
      },
      "outputs": [
        {
          "name": "stdout",
          "output_type": "stream",
          "text": [
            "The list of top 5 rated movies by the Customer_Id 160179 are\n",
            "Proof Positive    \n",
            "The Bible Collection: Joseph    \n",
            "Dragon Ball: King Piccolo Saga: Part 2    \n",
            "Last Flight of Noah's Ark    \n",
            "Grind    \n",
            "\n",
            "The list of top 5 recommended movies for the Customer_Id 160179 are\n",
            "Bonjour Monsieur Shlomi    \n",
            "Lois & Clark: The New Adventures of Superman: Season 1    \n",
            "Kojak: Season 1    \n",
            "It Was a Wonderful Life    \n",
            "Inner Senses    \n"
          ]
        }
      ],
      "source": [
        "recommendations(160179)"
      ]
    },
    {
      "cell_type": "code",
      "execution_count": null,
      "id": "2a854ba5",
      "metadata": {
        "id": "2a854ba5",
        "outputId": "52928ebe-6181-448e-c702-96a7a42ef5ae"
      },
      "outputs": [
        {
          "name": "stdout",
          "output_type": "stream",
          "text": [
            "The list of top 5 rated movies by the Customer_Id 82281 are\n",
            "Beauty and the Beast: Special Edition    \n",
            "The Velocity of Gary    \n",
            "Love Me Tonight    \n",
            "Head On    \n",
            "Gladiator    \n",
            "\n",
            "The list of top 5 recommended movies for the Customer_Id 82281 are\n",
            "Para Para Sakura    \n",
            "Disorganized Crime    \n",
            "High Times' Potluck    \n",
            "Worth Winning    \n",
            "Earth vs. The Flying Saucers    \n"
          ]
        }
      ],
      "source": [
        "recommendations(82281)"
      ]
    },
    {
      "cell_type": "markdown",
      "id": "18f6dc3b",
      "metadata": {
        "id": "18f6dc3b"
      },
      "source": [
        "# <font color='Black'>Recommending Similar Movies While Searching</font>"
      ]
    },
    {
      "cell_type": "code",
      "execution_count": null,
      "id": "fa6fefc7",
      "metadata": {
        "id": "fa6fefc7"
      },
      "outputs": [],
      "source": [
        "# nearest_neighbor object to find the similar movies\n",
        "similar_movies=NearestNeighbors(metric='cosine', n_jobs=-1, algorithm='brute')\n",
        "\n",
        "# fitting the above learning algo on the utility matrix\n",
        "similar_movies.fit(utility)\n",
        "\n",
        "def search():\n",
        "    # lower casing the searched title\n",
        "    movie_name=input('Enter your search phrase here: ').lower()\n",
        "    \n",
        "    # finding the matches in the list of movie titles\n",
        "    filtered=movies[movies.title.str.lower().str.contains(movie_name)]\n",
        "    \n",
        "    if len(filtered)==0: \n",
        "        print(\"Couldn't find this movie. Please try again!\")\n",
        "        return\n",
        "    if len(filtered)>10:\n",
        "        print(\"Search phrase is too generic. Please try again!\")\n",
        "        return\n",
        "    \n",
        "    print(f'\\nTop matches for your search phrase are:')\n",
        "    for title in filtered.title.values:\n",
        "        print(title)\n",
        "    \n",
        "    match_ids=filtered.id.values # list of search phrase matching movie ids\n",
        "    similar_ids=[]\n",
        "    seen=set() # to avoid repeatedly recommending same movie\n",
        "    \n",
        "    for ids in match_ids:\n",
        "        # capturing cosine distance and similar movie id from kneighbors\n",
        "        # for ids from every matching id\n",
        "        dis,mov=similar_movies.kneighbors(utility[ids],\n",
        "                                          n_neighbors=6,\n",
        "                                          return_distance=True)\n",
        "        for i in range(1,6):\n",
        "            # adding the cosine distance and similar movie id as long as\n",
        "            # the similar movie id is not already in the match_ids list\n",
        "            if (mov[0][i] not in match_ids) and (mov[0][i] not in seen):\n",
        "                seen.add(mov[0][i])\n",
        "                similar_ids.append([dis[0][i],mov[0][i]])\n",
        "    \n",
        "    similar_ids.sort(key=lambda x:x[0]) # sorting based on the distance\n",
        "    \n",
        "    print(f'\\nRecommended watch:')\n",
        "    for dist, mov_id in similar_ids[:10]:\n",
        "        # printing only the titles of the top 10 most similar movies\n",
        "        print(movies.title.values[movies.id==mov_id][0])"
      ]
    },
    {
      "cell_type": "code",
      "execution_count": null,
      "id": "034f6dff",
      "metadata": {
        "id": "034f6dff",
        "outputId": "0158c0ab-d654-47c5-9438-72aafd944ec4"
      },
      "outputs": [
        {
          "name": "stdout",
          "output_type": "stream",
          "text": [
            "Enter your search phrase here: sdfhjk\n",
            "Couldn't find this movie. Please try again!\n"
          ]
        }
      ],
      "source": [
        "search()"
      ]
    },
    {
      "cell_type": "code",
      "execution_count": null,
      "id": "4eb4c676",
      "metadata": {
        "id": "4eb4c676",
        "outputId": "2eaed282-5082-4651-a73d-e44e24ab6d85"
      },
      "outputs": [
        {
          "name": "stdout",
          "output_type": "stream",
          "text": [
            "Enter your search phrase here: a\n",
            "Search phrase is too generic. Please try again!\n"
          ]
        }
      ],
      "source": [
        "search()"
      ]
    },
    {
      "cell_type": "code",
      "execution_count": null,
      "id": "9235a4b3",
      "metadata": {
        "id": "9235a4b3",
        "outputId": "d466e746-64db-423d-fe3d-88a09017f80b"
      },
      "outputs": [
        {
          "name": "stdout",
          "output_type": "stream",
          "text": [
            "Enter your search phrase here: the godfather\n",
            "\n",
            "Top matches for your search phrase are:\n",
            "The Godfather  Part II   \n",
            "The Godfather  Part III   \n",
            "The Godfather    \n",
            "The Godfather Trilogy: Bonus Material    \n",
            "\n",
            "Recommended watch:\n",
            "GoodFellas: Special Edition    \n",
            "One Flew Over the Cuckoo's Nest    \n",
            "The Silence of the Lambs    \n",
            "Apocalypse Now    \n",
            "Star Wars: Episode I: The Phantom Menace    \n",
            "Hannibal    \n",
            "Scarface: 20th Anniversary Edition    \n",
            "The Devil's Advocate    \n",
            "Seven: Bonus Material    \n",
            "Scarface: 20th Anniversary Edition: Bonus Material    \n"
          ]
        }
      ],
      "source": [
        "search()"
      ]
    },
    {
      "cell_type": "code",
      "execution_count": null,
      "id": "e94e9253",
      "metadata": {
        "id": "e94e9253",
        "outputId": "0a13554b-8d6f-46a5-831e-e0c9638c155f"
      },
      "outputs": [
        {
          "name": "stdout",
          "output_type": "stream",
          "text": [
            "Enter your search phrase here: finding nemo\n",
            "\n",
            "Top matches for your search phrase are:\n",
            "Finding Nemo (Widescreen)    \n",
            "Finding Nemo (Full-screen)    \n",
            "\n",
            "Recommended watch:\n",
            "Monsters  Inc.   \n",
            "Shrek (Full-screen)    \n",
            "Shrek 2    \n",
            "A Bug's Life    \n",
            "The Incredibles    \n",
            "Toy Story 2    \n"
          ]
        }
      ],
      "source": [
        "search()"
      ]
    },
    {
      "cell_type": "code",
      "execution_count": null,
      "id": "82a77601",
      "metadata": {
        "id": "82a77601",
        "outputId": "2eef62fc-65bd-4d6b-85ae-7b95d3681703"
      },
      "outputs": [
        {
          "name": "stdout",
          "output_type": "stream",
          "text": [
            "Enter your search phrase here: Shaolin Soccer\n",
            "\n",
            "Top matches for your search phrase are:\n",
            "Shaolin Soccer    \n",
            "\n",
            "Recommended watch:\n",
            "Kung Fu Hustle    \n",
            "The Legend of Drunken Master    \n",
            "Iron Monkey    \n",
            "The Blind Swordman: Zatoichi    \n",
            "Once Upon a Time in China 2    \n"
          ]
        }
      ],
      "source": [
        "search()"
      ]
    }
  ],
  "metadata": {
    "kernelspec": {
      "display_name": "Python 3",
      "language": "python",
      "name": "python3"
    },
    "language_info": {
      "codemirror_mode": {
        "name": "ipython",
        "version": 3
      },
      "file_extension": ".py",
      "mimetype": "text/x-python",
      "name": "python",
      "nbconvert_exporter": "python",
      "pygments_lexer": "ipython3",
      "version": "3.8.8"
    },
    "colab": {
      "name": "Recommendation Engine Using Collaborative Filtering Approach.ipynb",
      "provenance": []
    }
  },
  "nbformat": 4,
  "nbformat_minor": 5
}